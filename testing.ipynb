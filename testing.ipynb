{
 "cells": [
  {
   "cell_type": "code",
   "execution_count": 22,
   "metadata": {},
   "outputs": [
    {
     "name": "stdout",
     "output_type": "stream",
     "text": [
      "Collecting mistralai\n",
      "  Downloading mistralai-1.2.5-py3-none-any.whl (260 kB)\n",
      "\u001b[2K     \u001b[90m━━━━━━━━━━━━━━━━━━━━━━━━━━━━━━━━━━━━━\u001b[0m \u001b[32m260.0/260.0 kB\u001b[0m \u001b[31m853.1 kB/s\u001b[0m eta \u001b[36m0:00:00\u001b[0ma \u001b[36m0:00:01\u001b[0m\n",
      "\u001b[?25hRequirement already satisfied: python-dateutil<3.0.0,>=2.8.2 in /Users/andriipolishko/.pyenv/versions/3.10.15/lib/python3.10/site-packages (from mistralai) (2.9.0.post0)\n",
      "Requirement already satisfied: pydantic<3.0.0,>=2.9.0 in /Users/andriipolishko/.pyenv/versions/3.10.15/lib/python3.10/site-packages (from mistralai) (2.10.3)\n",
      "Collecting typing-inspect<0.10.0,>=0.9.0\n",
      "  Downloading typing_inspect-0.9.0-py3-none-any.whl (8.8 kB)\n",
      "Collecting jsonpath-python<2.0.0,>=1.0.6\n",
      "  Downloading jsonpath_python-1.0.6-py3-none-any.whl (7.6 kB)\n",
      "Collecting httpx<0.28.0,>=0.27.0\n",
      "  Downloading httpx-0.27.2-py3-none-any.whl (76 kB)\n",
      "\u001b[2K     \u001b[90m━━━━━━━━━━━━━━━━━━━━━━━━━━━━━━━━━━━━━━━━\u001b[0m \u001b[32m76.4/76.4 kB\u001b[0m \u001b[31m1.9 MB/s\u001b[0m eta \u001b[36m0:00:00\u001b[0m\n",
      "\u001b[?25hCollecting eval-type-backport<0.3.0,>=0.2.0\n",
      "  Downloading eval_type_backport-0.2.0-py3-none-any.whl (5.9 kB)\n",
      "Collecting sniffio\n",
      "  Downloading sniffio-1.3.1-py3-none-any.whl (10 kB)\n",
      "Requirement already satisfied: certifi in /Users/andriipolishko/.pyenv/versions/3.10.15/lib/python3.10/site-packages (from httpx<0.28.0,>=0.27.0->mistralai) (2024.12.14)\n",
      "Collecting httpcore==1.*\n",
      "  Downloading httpcore-1.0.7-py3-none-any.whl (78 kB)\n",
      "\u001b[2K     \u001b[90m━━━━━━━━━━━━━━━━━━━━━━━━━━━━━━━━━━━━━━━━\u001b[0m \u001b[32m78.6/78.6 kB\u001b[0m \u001b[31m1.1 MB/s\u001b[0m eta \u001b[36m0:00:00\u001b[0ma \u001b[36m0:00:01\u001b[0m\n",
      "\u001b[?25hCollecting anyio\n",
      "  Downloading anyio-4.7.0-py3-none-any.whl (93 kB)\n",
      "\u001b[2K     \u001b[90m━━━━━━━━━━━━━━━━━━━━━━━━━━━━━━━━━━━━━━━━\u001b[0m \u001b[32m93.1/93.1 kB\u001b[0m \u001b[31m1.8 MB/s\u001b[0m eta \u001b[36m0:00:00\u001b[0ma \u001b[36m0:00:01\u001b[0m\n",
      "\u001b[?25hRequirement already satisfied: idna in /Users/andriipolishko/.pyenv/versions/3.10.15/lib/python3.10/site-packages (from httpx<0.28.0,>=0.27.0->mistralai) (3.10)\n",
      "Collecting h11<0.15,>=0.13\n",
      "  Using cached h11-0.14.0-py3-none-any.whl (58 kB)\n",
      "Requirement already satisfied: annotated-types>=0.6.0 in /Users/andriipolishko/.pyenv/versions/3.10.15/lib/python3.10/site-packages (from pydantic<3.0.0,>=2.9.0->mistralai) (0.7.0)\n",
      "Requirement already satisfied: typing-extensions>=4.12.2 in /Users/andriipolishko/.pyenv/versions/3.10.15/lib/python3.10/site-packages (from pydantic<3.0.0,>=2.9.0->mistralai) (4.12.2)\n",
      "Requirement already satisfied: pydantic-core==2.27.1 in /Users/andriipolishko/.pyenv/versions/3.10.15/lib/python3.10/site-packages (from pydantic<3.0.0,>=2.9.0->mistralai) (2.27.1)\n",
      "Requirement already satisfied: six>=1.5 in /Users/andriipolishko/.pyenv/versions/3.10.15/lib/python3.10/site-packages (from python-dateutil<3.0.0,>=2.8.2->mistralai) (1.17.0)\n",
      "Collecting mypy-extensions>=0.3.0\n",
      "  Downloading mypy_extensions-1.0.0-py3-none-any.whl (4.7 kB)\n",
      "Requirement already satisfied: exceptiongroup>=1.0.2 in /Users/andriipolishko/.pyenv/versions/3.10.15/lib/python3.10/site-packages (from anyio->httpx<0.28.0,>=0.27.0->mistralai) (1.2.2)\n",
      "Installing collected packages: sniffio, mypy-extensions, jsonpath-python, h11, eval-type-backport, typing-inspect, httpcore, anyio, httpx, mistralai\n",
      "Successfully installed anyio-4.7.0 eval-type-backport-0.2.0 h11-0.14.0 httpcore-1.0.7 httpx-0.27.2 jsonpath-python-1.0.6 mistralai-1.2.5 mypy-extensions-1.0.0 sniffio-1.3.1 typing-inspect-0.9.0\n",
      "\n",
      "\u001b[1m[\u001b[0m\u001b[34;49mnotice\u001b[0m\u001b[1;39;49m]\u001b[0m\u001b[39;49m A new release of pip is available: \u001b[0m\u001b[31;49m23.0.1\u001b[0m\u001b[39;49m -> \u001b[0m\u001b[32;49m24.3.1\u001b[0m\n",
      "\u001b[1m[\u001b[0m\u001b[34;49mnotice\u001b[0m\u001b[1;39;49m]\u001b[0m\u001b[39;49m To update, run: \u001b[0m\u001b[32;49mpip install --upgrade pip\u001b[0m\n",
      "Note: you may need to restart the kernel to use updated packages.\n"
     ]
    }
   ],
   "source": [
    "pip install mistralai"
   ]
  },
  {
   "cell_type": "code",
   "execution_count": 21,
   "metadata": {},
   "outputs": [
    {
     "name": "stdout",
     "output_type": "stream",
     "text": [
      "Collecting en-core-web-lg==3.8.0\n",
      "  Downloading https://github.com/explosion/spacy-models/releases/download/en_core_web_lg-3.8.0/en_core_web_lg-3.8.0-py3-none-any.whl (400.7 MB)\n",
      "\u001b[2K     \u001b[91m━━━━━━━\u001b[0m\u001b[91m╸\u001b[0m\u001b[90m━━━━━━━━━━━━━━━━━━━━━━━━━━━━━━━\u001b[0m \u001b[32m81.7/400.7 MB\u001b[0m \u001b[31m15.3 MB/s\u001b[0m eta \u001b[36m0:00:21\u001b[0m^C\n",
      "\u001b[2K     \u001b[91m━━━━━━━━\u001b[0m\u001b[90m╺\u001b[0m\u001b[90m━━━━━━━━━━━━━━━━━━━━━━━━━━━━━━\u001b[0m \u001b[32m84.7/400.7 MB\u001b[0m \u001b[31m18.1 MB/s\u001b[0m eta \u001b[36m0:00:18\u001b[0m\n",
      "\u001b[?25h\u001b[31mERROR: Operation cancelled by user\u001b[0m\u001b[31m\n",
      "\u001b[0m\n",
      "\u001b[1m[\u001b[0m\u001b[34;49mnotice\u001b[0m\u001b[1;39;49m]\u001b[0m\u001b[39;49m A new release of pip is available: \u001b[0m\u001b[31;49m23.0.1\u001b[0m\u001b[39;49m -> \u001b[0m\u001b[32;49m24.3.1\u001b[0m\n",
      "\u001b[1m[\u001b[0m\u001b[34;49mnotice\u001b[0m\u001b[1;39;49m]\u001b[0m\u001b[39;49m To update, run: \u001b[0m\u001b[32;49mpip install --upgrade pip\u001b[0m\n"
     ]
    }
   ],
   "source": [
    "!python -m spacy download en_core_web_lg mistralai"
   ]
  },
  {
   "cell_type": "code",
   "execution_count": 1,
   "metadata": {},
   "outputs": [
    {
     "name": "stderr",
     "output_type": "stream",
     "text": [
      "/Users/andriipolishko/.pyenv/versions/3.10.15/lib/python3.10/site-packages/tqdm/auto.py:21: TqdmWarning: IProgress not found. Please update jupyter and ipywidgets. See https://ipywidgets.readthedocs.io/en/stable/user_install.html\n",
      "  from .autonotebook import tqdm as notebook_tqdm\n"
     ]
    }
   ],
   "source": [
    "import pandas as pd\n",
    "import kagglehub\n",
    "import os\n",
    "\n",
    "resumes_df_path = \"data/UpdatedResumeDataSet.csv\"\n",
    "jobs_df_path = \"data/data job posts.csv\"\n",
    "\n",
    "if not os.path.exists(resumes_df_path):\n",
    "    print(f\"Resumes dataset not found at {resumes_df_path}\")\n",
    "    print(f\"Downloading from kaggle...\")\n",
    "    path = kagglehub.dataset_download(\"gauravduttakiit/resume-dataset\")\n",
    "    !mkdir -p data\n",
    "    !mv $path/* ./data\n",
    "\n",
    "if not os.path.exists(jobs_df_path):\n",
    "    print(f\"Jobs dataset not found at {jobs_df_path}\")\n",
    "    print(f\"Downloading from kaggle...\")\n",
    "    path = kagglehub.dataset_download(\"madhab/jobposts\")\n",
    "    !mkdir -p data\n",
    "    !mv $path/* ./data\n",
    "\n",
    "\n",
    "resumes_df = pd.read_csv(resumes_df_path)\n",
    "jobs_df = pd.read_csv(jobs_df_path)"
   ]
  },
  {
   "cell_type": "markdown",
   "metadata": {},
   "source": [
    "# TF-idf"
   ]
  },
  {
   "cell_type": "code",
   "execution_count": 9,
   "metadata": {},
   "outputs": [
    {
     "data": {
      "text/html": [
       "<div>\n",
       "<style scoped>\n",
       "    .dataframe tbody tr th:only-of-type {\n",
       "        vertical-align: middle;\n",
       "    }\n",
       "\n",
       "    .dataframe tbody tr th {\n",
       "        vertical-align: top;\n",
       "    }\n",
       "\n",
       "    .dataframe thead th {\n",
       "        text-align: right;\n",
       "    }\n",
       "</style>\n",
       "<table border=\"1\" class=\"dataframe\">\n",
       "  <thead>\n",
       "    <tr style=\"text-align: right;\">\n",
       "      <th></th>\n",
       "      <th>Category</th>\n",
       "      <th>Resume</th>\n",
       "    </tr>\n",
       "  </thead>\n",
       "  <tbody>\n",
       "    <tr>\n",
       "      <th>0</th>\n",
       "      <td>Data Science</td>\n",
       "      <td>Skills * Programming Languages: Python (pandas...</td>\n",
       "    </tr>\n",
       "    <tr>\n",
       "      <th>1</th>\n",
       "      <td>Data Science</td>\n",
       "      <td>Education Details \\r\\nMay 2013 to May 2017 B.E...</td>\n",
       "    </tr>\n",
       "    <tr>\n",
       "      <th>2</th>\n",
       "      <td>Data Science</td>\n",
       "      <td>Areas of Interest Deep Learning, Control Syste...</td>\n",
       "    </tr>\n",
       "    <tr>\n",
       "      <th>3</th>\n",
       "      <td>Data Science</td>\n",
       "      <td>Skills â¢ R â¢ Python â¢ SAP HANA â¢ Table...</td>\n",
       "    </tr>\n",
       "    <tr>\n",
       "      <th>4</th>\n",
       "      <td>Data Science</td>\n",
       "      <td>Education Details \\r\\n MCA   YMCAUST,  Faridab...</td>\n",
       "    </tr>\n",
       "    <tr>\n",
       "      <th>...</th>\n",
       "      <td>...</td>\n",
       "      <td>...</td>\n",
       "    </tr>\n",
       "    <tr>\n",
       "      <th>957</th>\n",
       "      <td>Testing</td>\n",
       "      <td>Computer Skills: â¢ Proficient in MS office (...</td>\n",
       "    </tr>\n",
       "    <tr>\n",
       "      <th>958</th>\n",
       "      <td>Testing</td>\n",
       "      <td>â Willingness to accept the challenges. â ...</td>\n",
       "    </tr>\n",
       "    <tr>\n",
       "      <th>959</th>\n",
       "      <td>Testing</td>\n",
       "      <td>PERSONAL SKILLS â¢ Quick learner, â¢ Eagerne...</td>\n",
       "    </tr>\n",
       "    <tr>\n",
       "      <th>960</th>\n",
       "      <td>Testing</td>\n",
       "      <td>COMPUTER SKILLS &amp; SOFTWARE KNOWLEDGE MS-Power ...</td>\n",
       "    </tr>\n",
       "    <tr>\n",
       "      <th>961</th>\n",
       "      <td>Testing</td>\n",
       "      <td>Skill Set OS Windows XP/7/8/8.1/10 Database MY...</td>\n",
       "    </tr>\n",
       "  </tbody>\n",
       "</table>\n",
       "<p>962 rows × 2 columns</p>\n",
       "</div>"
      ],
      "text/plain": [
       "         Category                                             Resume\n",
       "0    Data Science  Skills * Programming Languages: Python (pandas...\n",
       "1    Data Science  Education Details \\r\\nMay 2013 to May 2017 B.E...\n",
       "2    Data Science  Areas of Interest Deep Learning, Control Syste...\n",
       "3    Data Science  Skills â¢ R â¢ Python â¢ SAP HANA â¢ Table...\n",
       "4    Data Science  Education Details \\r\\n MCA   YMCAUST,  Faridab...\n",
       "..            ...                                                ...\n",
       "957       Testing  Computer Skills: â¢ Proficient in MS office (...\n",
       "958       Testing  â Willingness to accept the challenges. â ...\n",
       "959       Testing  PERSONAL SKILLS â¢ Quick learner, â¢ Eagerne...\n",
       "960       Testing  COMPUTER SKILLS & SOFTWARE KNOWLEDGE MS-Power ...\n",
       "961       Testing  Skill Set OS Windows XP/7/8/8.1/10 Database MY...\n",
       "\n",
       "[962 rows x 2 columns]"
      ]
     },
     "execution_count": 9,
     "metadata": {},
     "output_type": "execute_result"
    }
   ],
   "source": [
    "resumes_df"
   ]
  },
  {
   "cell_type": "code",
   "execution_count": 19,
   "metadata": {},
   "outputs": [
    {
     "name": "stdout",
     "output_type": "stream",
     "text": [
      "Most Important Words: [('windows', np.float64(0.595879571531124)), ('testing', np.float64(0.5107539184552492)), ('months', np.float64(0.34050261230349943)), ('exprience', np.float64(0.21281413268968716)), ('test', np.float64(0.21281413268968716)), ('web', np.float64(0.21281413268968716)), ('xp', np.float64(0.21281413268968716)), ('environment', np.float64(0.17025130615174972)), ('project', np.float64(0.17025130615174972)), ('role', np.float64(0.17025130615174972))]\n"
     ]
    }
   ],
   "source": [
    "from sklearn.feature_extraction.text import TfidfVectorizer\n",
    "\n",
    "# Example resume\n",
    "resume_text = \"\"\"\n",
    "Experienced software engineer with expertise in Python, machine learning, and data analysis.\n",
    "Proven ability to deliver high-quality solutions in fast-paced environments.\n",
    "\"\"\"\n",
    "\n",
    "resume_text_1 = resumes_df.loc[0]['Resume']\n",
    "resume_text_3 = resumes_df.loc[961]['Resume']\n",
    "\n",
    "# Create a TF-IDF vectorizer\n",
    "vectorizer = TfidfVectorizer(stop_words='english', max_features=10)\n",
    "\n",
    "# Fit and transform the text\n",
    "tfidf_matrix = vectorizer.fit_transform([resume_text_3])\n",
    "\n",
    "# Get the feature names and their scores\n",
    "feature_names = vectorizer.get_feature_names_out()\n",
    "scores = tfidf_matrix.toarray()[0]\n",
    "\n",
    "# Display results\n",
    "important_words = sorted(zip(feature_names, scores), key=lambda x: x[1], reverse=True)\n",
    "print(\"Most Important Words:\", important_words)"
   ]
  },
  {
   "cell_type": "code",
   "execution_count": 20,
   "metadata": {},
   "outputs": [
    {
     "name": "stdout",
     "output_type": "stream",
     "text": [
      "Most Important Words: [('Windows', 10), ('Testing', 8), ('months', 8), ('Exprience', 5), ('Project', 4), ('Based', 4), ('Environment', 4), ('Role', 4), ('Duration', 4), ('Details', 3)]\n"
     ]
    }
   ],
   "source": [
    "import spacy\n",
    "from collections import Counter\n",
    "from spacy.lang.en.stop_words import STOP_WORDS\n",
    "from string import punctuation\n",
    "\n",
    "# Load English model\n",
    "nlp = spacy.load(\"en_core_web_lg\")\n",
    "\n",
    "# Example resume\n",
    "resume_text = \"\"\"\n",
    "Experienced software engineer with expertise in Python, machine learning, and data analysis.\n",
    "Proven ability to deliver high-quality solutions in fast-paced environments.\n",
    "\"\"\"\n",
    "\n",
    "# Process text with spaCy\n",
    "doc = nlp(resume_text_3)\n",
    "\n",
    "# Extract candidate words (non-stop words and non-punctuation)\n",
    "words = [token.text for token in doc if token.is_alpha and token.text.lower() not in STOP_WORDS]\n",
    "\n",
    "# Calculate word frequencies\n",
    "word_freq = Counter(words)\n",
    "\n",
    "# Display the most common words\n",
    "important_words = word_freq.most_common(10)\n",
    "print(\"Most Important Words:\", important_words)\n"
   ]
  },
  {
   "cell_type": "markdown",
   "metadata": {},
   "source": [
    "# Mistral keyphrases getter"
   ]
  },
  {
   "cell_type": "code",
   "execution_count": 25,
   "metadata": {},
   "outputs": [],
   "source": [
    "from mistralai import Mistral\n",
    "\n",
    "model = \"mistral-large-latest\"\n",
    "\n",
    "api_key = \"JnaRE4F25Lq2cJLoVUmjPwjp9COhgY19\"\n",
    "\n",
    "client = Mistral(api_key)"
   ]
  },
  {
   "cell_type": "code",
   "execution_count": 32,
   "metadata": {},
   "outputs": [
    {
     "data": {
      "text/plain": [
       "'Skill Set OS Windows XP/7/8/8.1/10 Database MYSQL, sql server 2005, 2008 & 2012 Languages Core Java Web Technology HTML, CSS Testing Manual Testing, Database Testing Other Bug tracking and reporting, End user handling.Education Details \\r\\nJanuary 2016 MCS  Pune, Maharashtra P.V.P College Pravaranagar\\r\\nJanuary 2011 HSC   A.K.Junior College\\r\\nJanuary 2009 SSC   A.K.Mahavidyalya\\r\\nJR TESTING ENGINEER \\r\\n\\r\\nJR TESTING ENGINEER - M-Tech Innovations Ltd\\r\\nSkill Details \\r\\nTESTING- Exprience - 24 months\\r\\nWINDOWS XP- Exprience - 24 months\\r\\nCSS- Exprience - 6 months\\r\\nDATABASE- Exprience - 6 months\\r\\nDATABASE TESTING- Exprience - 6 monthsCompany Details \\r\\ncompany - M-Tech Innovations Ltd\\r\\ndescription - Responsibilities â\\x80¢     Analyzing the Testing Requirements â\\x80¢     Preparing Test Plans, Test Scenarios â\\x80¢     Preparing Test Cases â\\x80¢     Executing the test cases â\\x80¢     Tracking bugs â\\x80¢     Coordinating developers in order to fix it â\\x80¢     Preparing test summary reports â\\x80¢     Reporting quality manager â\\x80¢     Attending meeting\\r\\n\\r\\nProjects\\r\\nProject Name   1.Web Based Time Attendance Application\\r\\nEnvironment    Windows-7, Vista, Windows XP, Windows 8, Windows 10\\r\\nClients        MCCIA, Sapphire Park, Bramha Suncity, Wanless hospital\\r\\nRole           Software Testing\\r\\nDuration       6 months\\r\\n\\r\\nProject Name   Android 1.Time Attendance Application   2.Vehicle Tracking System   3.Vistor Management System\\r\\nEnvironment    Android Mobile, Android Tablet.\\r\\nClients        Vankan Security\\r\\nRole           Application Testing\\r\\nDuration       6 months\\r\\n\\r\\nProject Name   1.Web Based Factory Automation Process   2.Web Based Annual Maintenance Charges\\r\\nEnvironment    Windows-7, Vista, Windows XP, Windows 8, Windows 10\\r\\nRole           Software Testing\\r\\nDuration       6 months\\r\\n\\r\\nProject Name   Web Based Library Management System\\r\\nEnvironment    Windows-7, Vista, Windows XP, Windows 8, Windows 10\\r\\nRole           Software Testing\\r\\nDuration       6 months'"
      ]
     },
     "execution_count": 32,
     "metadata": {},
     "output_type": "execute_result"
    }
   ],
   "source": [
    "resume_text_3"
   ]
  },
  {
   "cell_type": "code",
   "execution_count": 31,
   "metadata": {},
   "outputs": [
    {
     "name": "stdout",
     "output_type": "stream",
     "text": [
      "Most important skills: Testing, Windows OS (XP, 7, 8, 8.1, 10), Database Testing, Manual Testing, CSS, MYSQL, SQL Server (2005, 2008, 2012), Bug Tracking, Test Planning, Test Case Execution, Coordination with Developers, Reporting to Quality Manager.\n"
     ]
    }
   ],
   "source": [
    "chat_response = client.chat.complete(\n",
    "    model= model,\n",
    "    messages = [\n",
    "        {\n",
    "            \"role\": \"system\",\n",
    "            \"content\": \"You are resume analyzer with a single role of extracting most important skills. Your output ALWAYS is following format: 'Most important skills: skill1, skill2, skill3, ...'\",\n",
    "        },\n",
    "        {\n",
    "            \"role\": \"user\",\n",
    "            \"content\": resume_text_3\n",
    "        }\n",
    "    ]\n",
    ")\n",
    "print(chat_response.choices[0].message.content)"
   ]
  }
 ],
 "metadata": {
  "kernelspec": {
   "display_name": "Python 3",
   "language": "python",
   "name": "python3"
  },
  "language_info": {
   "codemirror_mode": {
    "name": "ipython",
    "version": 3
   },
   "file_extension": ".py",
   "mimetype": "text/x-python",
   "name": "python",
   "nbconvert_exporter": "python",
   "pygments_lexer": "ipython3",
   "version": "3.10.15"
  }
 },
 "nbformat": 4,
 "nbformat_minor": 2
}
